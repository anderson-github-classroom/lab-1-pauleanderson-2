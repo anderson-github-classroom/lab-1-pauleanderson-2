{
 "cells": [
  {
   "cell_type": "markdown",
   "metadata": {
    "slideshow": {
     "slide_type": "slide"
    }
   },
   "source": [
    "# Lab 1 - Creating an inverted index\n",
    "\n",
    "Overview of inverted indexes: <a href=\"https://en.wikipedia.org/wiki/Inverted_index\">https://en.wikipedia.org/wiki/Inverted_index</a>\n",
    "\n",
    "In this lab you will create an inverted index for the Gutenberg books. What I want you to do is create a single index that you can quickly return all the lines from all the books that contain a specific word. We will be using the basic and naive split functionality from the chapter (i.e., don't worry about punctuation, etc). Those are details that are not necessary for our exploration into distributed computing. We will use GNU Parallel to distributed our solution."
   ]
  },
  {
   "cell_type": "code",
   "execution_count": 2,
   "metadata": {
    "slideshow": {
     "slide_type": "skip"
    }
   },
   "outputs": [
    {
     "data": {
      "text/plain": [
       "'Verifying you can use display'"
      ]
     },
     "metadata": {},
     "output_type": "display_data"
    }
   ],
   "source": [
    "display_available = True\n",
    "try:\n",
    "    display('Verifying you can use display')\n",
    "    from IPython.display import Image\n",
    "except:\n",
    "    display=print\n",
    "    display_available = False\n",
    "try:\n",
    "    import pygraphviz\n",
    "    graphviz_installed = True # Set this to False if you don't have graphviz\n",
    "except:\n",
    "    graphviz_installed = False\n",
    "    \n",
    "import os\n",
    "from pathlib import Path\n",
    "home = str(Path.home())\n",
    "if home == '/home/runner':\n",
    "    home = os.getcwd()\n",
    "\n",
    "def isnotebook():\n",
    "    try:\n",
    "        shell = get_ipython().__class__.__name__\n",
    "        if shell == 'ZMQInteractiveShell':\n",
    "            return True   # Jupyter notebook or qtconsole\n",
    "        elif shell == 'TerminalInteractiveShell':\n",
    "            return False  # Terminal running IPython\n",
    "        else:\n",
    "            return False  # Other type (?)\n",
    "    except NameError:\n",
    "        return False      # Probably standard Python interpreter"
   ]
  },
  {
   "cell_type": "markdown",
   "metadata": {
    "slideshow": {
     "slide_type": "subslide"
    }
   },
   "source": [
    "### Read in the book files for testing purposes"
   ]
  },
  {
   "cell_type": "code",
   "execution_count": 6,
   "metadata": {
    "slideshow": {
     "slide_type": "subslide"
    }
   },
   "outputs": [],
   "source": [
    "from os import path\n",
    "book_files = []\n",
    "for book in open(f\"{home}/csc-369-student/data/gutenberg/order.txt\").read().split(\"\\n\"):\n",
    "    if path.isfile(f'{home}/csc-369-student/data/gutenberg/{book}-0.txt'):\n",
    "        book_files.append(f'{home}/csc-369-student/data/gutenberg/{book}-0.txt')"
   ]
  },
  {
   "cell_type": "markdown",
   "metadata": {
    "slideshow": {
     "slide_type": "subslide"
    }
   },
   "source": [
    "**Exercise 1:**\n",
    "\n",
    "Complete the following function that returns a line that is read after seeking to ``pos`` in ``book``."
   ]
  },
  {
   "cell_type": "code",
   "execution_count": 7,
   "metadata": {
    "slideshow": {
     "slide_type": "subslide"
    }
   },
   "outputs": [],
   "source": [
    "def read_line_at_pos(book, pos):\n",
    "    with open(book,encoding=\"utf-8\") as f:\n",
    "        f.seek(pos)\n",
    "        return f.readline()"
   ]
  },
  {
   "cell_type": "code",
   "execution_count": 9,
   "metadata": {
    "slideshow": {
     "slide_type": "subslide"
    }
   },
   "outputs": [
    {
     "data": {
      "text/plain": [
       "'one anywhere in the United States and\\n'"
      ]
     },
     "metadata": {},
     "output_type": "display_data"
    }
   ],
   "source": [
    "if isnotebook():\n",
    "    line = read_line_at_pos(book_files[0],100)\n",
    "    # Way to get started!\n",
    "    display(line)"
   ]
  },
  {
   "cell_type": "markdown",
   "metadata": {
    "slideshow": {
     "slide_type": "subslide"
    }
   },
   "source": [
    "**Notice that readline reads from the current position until the end of the line.** For the inverted index, you'll want to make sure to record only the positions that get you to the beginning of the line."
   ]
  },
  {
   "cell_type": "code",
   "execution_count": 5,
   "metadata": {
    "slideshow": {
     "slide_type": "subslide"
    }
   },
   "outputs": [],
   "source": [
    "if isnotebook():\n",
    "    read_line_at_pos(book_files[0],95)"
   ]
  },
  {
   "cell_type": "markdown",
   "metadata": {
    "slideshow": {
     "slide_type": "subslide"
    }
   },
   "source": [
    "**Exercise 2:**\n",
    "\n",
    "Complete the following function that returns a Python dictionary representing the inverted index. The dictionary should contain an offset that puts the file point at the beginning of the line. "
   ]
  },
  {
   "cell_type": "code",
   "execution_count": 6,
   "metadata": {},
   "outputs": [],
   "source": [
    "# Read in the file once and build a list of line offsets\n",
    "def inverted_index(book):\n",
    "    index = {}\n",
    "    # YOUR SOLUTION HERE\n",
    "    # Check out https://stackoverflow.com/a/40546814/9864659 for inspiration using seek and tell\n",
    "    return index"
   ]
  },
  {
   "cell_type": "code",
   "execution_count": 7,
   "metadata": {
    "slideshow": {
     "slide_type": "subslide"
    }
   },
   "outputs": [],
   "source": [
    "if isnotebook():\n",
    "    index = inverted_index(book_files[0])\n",
    "    index['things']"
   ]
  },
  {
   "cell_type": "markdown",
   "metadata": {
    "slideshow": {
     "slide_type": "subslide"
    }
   },
   "source": [
    "**Exercise 3:**\n",
    "\n",
    "Write a function that reads all of inverted into a single inverted index in the format shown below."
   ]
  },
  {
   "cell_type": "code",
   "execution_count": 8,
   "metadata": {
    "slideshow": {
     "slide_type": "subslide"
    }
   },
   "outputs": [],
   "source": [
    "def merged_inverted_index(book_files):\n",
    "    index = {}\n",
    "    for book in book_files:\n",
    "        book_index = inverted_index(book)\n",
    "        # YOUR SOLUTION HERE\n",
    "        pass\n",
    "    return index"
   ]
  },
  {
   "cell_type": "code",
   "execution_count": 9,
   "metadata": {
    "slideshow": {
     "slide_type": "subslide"
    }
   },
   "outputs": [],
   "source": [
    "if isnotebook():\n",
    "    index = merged_inverted_index(book_files)\n",
    "    # Getting there!"
   ]
  },
  {
   "cell_type": "code",
   "execution_count": 10,
   "metadata": {},
   "outputs": [],
   "source": [
    "if isnotebook():\n",
    "    import pandas as pd\n",
    "    pd.Series(index.keys())"
   ]
  },
  {
   "cell_type": "code",
   "execution_count": 11,
   "metadata": {},
   "outputs": [],
   "source": [
    "if isnotebook():\n",
    "    index['things']"
   ]
  },
  {
   "cell_type": "code",
   "execution_count": 12,
   "metadata": {
    "slideshow": {
     "slide_type": "subslide"
    }
   },
   "outputs": [],
   "source": [
    "if isnotebook():\n",
    "    import pandas as pd\n",
    "    # I am only using pandas here to make this display nicely on our screens\n",
    "    pd.Series(index['things'])"
   ]
  },
  {
   "cell_type": "markdown",
   "metadata": {
    "slideshow": {
     "slide_type": "subslide"
    }
   },
   "source": [
    "**Exercise 4:**\n",
    "\n",
    "Write a function that returns all of the lines from all of the books that contain a word. Duplicate lines are correct if the line has more than one occurence of the word. Format shown below."
   ]
  },
  {
   "cell_type": "code",
   "execution_count": 13,
   "metadata": {},
   "outputs": [],
   "source": [
    "def get_lines(index,word):\n",
    "    lines = []\n",
    "    for book in index[word]:\n",
    "        # YOUR SOLUTION HERE\n",
    "        pass\n",
    "    return lines"
   ]
  },
  {
   "cell_type": "code",
   "execution_count": 14,
   "metadata": {},
   "outputs": [],
   "source": [
    "if isnotebook():\n",
    "    lines = get_lines(index,'things')\n",
    "    lines"
   ]
  },
  {
   "cell_type": "markdown",
   "metadata": {
    "slideshow": {
     "slide_type": "subslide"
    }
   },
   "source": [
    "**Exercise 5:**\n",
    "\n",
    "Write a Python script that I can execute using Parallel in the following manner. I have hard coded an example script that will return the incorrect answer, but it will run. Your job is to remove the hard coded answer and insert the correct solution that will produce the correct answer. I have supplied the directory structure, and the parallel commands. You do need to write code that merges the groups back together."
   ]
  },
  {
   "cell_type": "markdown",
   "metadata": {},
   "source": [
    "**Here are the three groups.** Each directory has about 25 books. We could distribute these to different machines in a cluster, but you get the idea without that step."
   ]
  },
  {
   "cell_type": "code",
   "execution_count": 15,
   "metadata": {},
   "outputs": [
    {
     "name": "stdout",
     "output_type": "stream",
     "text": [
      "/home/jupyter-pander14/csc-369-student/data/gutenberg/group1\r\n",
      "/home/jupyter-pander14/csc-369-student/data/gutenberg/group2\r\n",
      "/home/jupyter-pander14/csc-369-student/data/gutenberg/group3\r\n"
     ]
    }
   ],
   "source": [
    "!ls -d $HOME/csc-369-student/data/gutenberg/group*"
   ]
  },
  {
   "cell_type": "code",
   "execution_count": 16,
   "metadata": {},
   "outputs": [
    {
     "name": "stdout",
     "output_type": "stream",
     "text": [
      "1080-0.txt  1400-0.txt\t219-0.txt    43-0.txt\t  64244-0.txt\r\n",
      "11-0.txt    160-0.txt\t25344-0.txt  46-0.txt\t  74-0.txt\r\n",
      "1250-0.txt  1661-0.txt\t2542-0.txt   50040-0.txt  76-0.txt\r\n",
      "1260-0.txt  1952-0.txt\t25929-0.txt  6133-0.txt   84-0.txt\r\n",
      "1342-0.txt  205-0.txt\t2701-0.txt   64241-0.txt  98-0.txt\r\n"
     ]
    }
   ],
   "source": [
    "!ls $HOME/csc-369-student/data/gutenberg/group1"
   ]
  },
  {
   "cell_type": "code",
   "execution_count": 17,
   "metadata": {},
   "outputs": [
    {
     "name": "stdout",
     "output_type": "stream",
     "text": [
      "1184-0.txt  147-0.txt\t2600-0.txt  4300-0.txt\t 64239-0.txt\r\n",
      "120-0.txt   158-0.txt\t2852-0.txt  45-0.txt\t 64242-0.txt\r\n",
      "1232-0.txt  16-0.txt\t3600-0.txt  57426-0.txt  64247-0.txt\r\n",
      "135-0.txt   2554-0.txt\t36-0.txt    58585-0.txt  768-0.txt\r\n",
      "140-0.txt   2591-0.txt\t408-0.txt   60479-0.txt  996-0.txt\r\n"
     ]
    }
   ],
   "source": [
    "!ls $HOME/csc-369-student/data/gutenberg/group2"
   ]
  },
  {
   "cell_type": "code",
   "execution_count": 18,
   "metadata": {},
   "outputs": [
    {
     "name": "stdout",
     "output_type": "stream",
     "text": [
      "113-0.txt   203-0.txt  28054-0.txt  41-0.txt\t 53854-0.txt  730-0.txt\r\n",
      "1399-0.txt  209-0.txt  2814-0.txt   42108-0.txt  6130-0.txt   766-0.txt\r\n",
      "1727-0.txt  215-0.txt  30254-0.txt  4517-0.txt\t 64238-0.txt  863-0.txt\r\n",
      "1998-0.txt  244-0.txt  35-0.txt     521-0.txt\t 64246-0.txt  902-0.txt\r\n"
     ]
    }
   ],
   "source": [
    "!ls $HOME/csc-369-student/data/gutenberg/group3"
   ]
  },
  {
   "cell_type": "markdown",
   "metadata": {},
   "source": [
    "**Running a single directory:** You can run a single directory with the following command and store the results to a file."
   ]
  },
  {
   "cell_type": "code",
   "execution_count": 19,
   "metadata": {
    "slideshow": {
     "slide_type": "subslide"
    }
   },
   "outputs": [],
   "source": [
    "!python Lab1_exercise5.py $HOME/csc-369-student/data/gutenberg/group1 > group1.json"
   ]
  },
  {
   "cell_type": "markdown",
   "metadata": {},
   "source": [
    "We can easily read these back into Python by relying on the JSON format. While more strict than Python dictionaries. They are very similar for our purposes (<a href=\"https://www.json.org/json-en.html\">https://www.json.org/json-en.html</a>. "
   ]
  },
  {
   "cell_type": "code",
   "execution_count": 20,
   "metadata": {},
   "outputs": [],
   "source": [
    "import json\n",
    "if isnotebook():\n",
    "    group1_results = json.load(open(\"group1.json\"))\n",
    "    group1_results['things']"
   ]
  },
  {
   "cell_type": "markdown",
   "metadata": {},
   "source": [
    "**You can run the files in parallel using**"
   ]
  },
  {
   "cell_type": "code",
   "execution_count": 21,
   "metadata": {},
   "outputs": [
    {
     "name": "stdout",
     "output_type": "stream",
     "text": [
      "1080-0.txt  1400-0.txt\t219-0.txt    43-0.txt\t  64244-0.txt\r\n",
      "11-0.txt    160-0.txt\t25344-0.txt  46-0.txt\t  74-0.txt\r\n",
      "1250-0.txt  1661-0.txt\t2542-0.txt   50040-0.txt  76-0.txt\r\n",
      "1260-0.txt  1952-0.txt\t25929-0.txt  6133-0.txt   84-0.txt\r\n",
      "1342-0.txt  205-0.txt\t2701-0.txt   64241-0.txt  98-0.txt\r\n"
     ]
    }
   ],
   "source": [
    "!ls $HOME/csc-369-student/data/gutenberg/group1"
   ]
  },
  {
   "cell_type": "code",
   "execution_count": 22,
   "metadata": {},
   "outputs": [
    {
     "name": "stdout",
     "output_type": "stream",
     "text": [
      "Academic tradition requires you to cite works you base your article on.\r\n",
      "When using programs that use GNU Parallel to process data for publication\r\n",
      "please cite:\r\n",
      "\r\n",
      "  O. Tange (2011): GNU Parallel - The Command-Line Power Tool,\r\n",
      "  ;login: The USENIX Magazine, February 2011:42-47.\r\n",
      "\r\n",
      "This helps funding further development; AND IT WON'T COST YOU A CENT.\r\n",
      "If you pay 10000 EUR you should feel free to use GNU Parallel without citing.\r\n",
      "\r\n",
      "To silence this citation notice: run 'parallel --citation'.\r\n",
      "\r\n"
     ]
    }
   ],
   "source": [
    "!parallel \"python Lab1_exercise5.py {} > {/}.json\" ::: \"$HOME/csc-369-student/data/gutenberg/group1\" \"$HOME/csc-369-student/data/gutenberg/group2\" \"$HOME/csc-369-student/data/gutenberg/group3\"\n",
    "            "
   ]
  },
  {
   "cell_type": "code",
   "execution_count": 23,
   "metadata": {
    "slideshow": {
     "slide_type": "subslide"
    }
   },
   "outputs": [],
   "source": [
    "import os\n",
    "def merge():\n",
    "    index = {}\n",
    "    r = os.system('parallel \"python Lab1_exercise5.py {} > {/}.json\" ::: \"$HOME/csc-369-student/data/gutenberg/group1\" \"$HOME/csc-369-student/data/gutenberg/group2\" \"$HOME/csc-369-student/data/gutenberg/group3\"')\n",
    "    if r == 0:\n",
    "        for file in [\"group1.json\",\"group2.json\",\"group3.json\"]:\n",
    "            # YOUR SOLUTION HERE\n",
    "            pass\n",
    "        os.system(\"rm group1.json group2.json group3.json\")\n",
    "    return index"
   ]
  },
  {
   "cell_type": "code",
   "execution_count": 24,
   "metadata": {},
   "outputs": [],
   "source": [
    "if isnotebook():\n",
    "    index = merge()\n",
    "    # You've done it!"
   ]
  },
  {
   "cell_type": "code",
   "execution_count": 25,
   "metadata": {
    "slideshow": {
     "slide_type": "subslide"
    }
   },
   "outputs": [],
   "source": [
    "if isnotebook():\n",
    "    index['things']"
   ]
  },
  {
   "cell_type": "markdown",
   "metadata": {},
   "source": [
    "This solution should match your solution above that was single thread, but now you are a rockstar distributed computing wizard who could process thousands of books on a cluster with nothing other than simple Python and GNU parallel."
   ]
  },
  {
   "cell_type": "code",
   "execution_count": 26,
   "metadata": {
    "lines_to_next_cell": 0,
    "slideshow": {
     "slide_type": "skip"
    }
   },
   "outputs": [
    {
     "name": "stdout",
     "output_type": "stream",
     "text": [
      "rm: cannot remove '*.json': No such file or directory\r\n"
     ]
    }
   ],
   "source": [
    "# Don't forget to push!"
   ]
  },
  {
   "cell_type": "code",
   "execution_count": 27,
   "metadata": {},
   "outputs": [
    {
     "name": "stdout",
     "output_type": "stream",
     "text": [
      "rm: cannot remove '*.json': No such file or directory\r\n"
     ]
    }
   ],
   "source": [
    "!rm *.json"
   ]
  }
 ],
 "metadata": {
  "celltoolbar": "Slideshow",
  "jupytext": {
   "encoding": "# -*- coding: utf-8 -*-",
   "formats": "ipynb,md,py"
  },
  "kernelspec": {
   "display_name": "Python 3",
   "language": "python",
   "name": "python3"
  },
  "language_info": {
   "codemirror_mode": {
    "name": "ipython",
    "version": 3
   },
   "file_extension": ".py",
   "mimetype": "text/x-python",
   "name": "python",
   "nbconvert_exporter": "python",
   "pygments_lexer": "ipython3",
   "version": "3.7.3"
  }
 },
 "nbformat": 4,
 "nbformat_minor": 4
}
